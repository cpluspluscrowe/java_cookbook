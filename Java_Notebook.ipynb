{
 "cells": [
  {
   "cell_type": "code",
   "execution_count": 41,
   "metadata": {},
   "outputs": [
    {
     "name": "stdout",
     "output_type": "stream",
     "text": [
      "[Hello, Yes]\n"
     ]
    }
   ],
   "source": [
    "import java.io.*;\n",
    "import java.math.*;\n",
    "import java.text.*;\n",
    "import java.util.*;\n",
    "import java.util.regex.*;\n",
    "import java.nio.file.*;\n",
    "\n",
    "public class Solution {\n",
    "    \n",
    "    public static void writeFile(String str) {\n",
    "        PrintWriter writer = new PrintWriter(\"input.txt\", \"ASCII\");\n",
    "        writer.println(str);\n",
    "        writer.close();\n",
    "    }\n",
    "    public static String readInput(){\n",
    "      List<String> records = new ArrayList<String>();\n",
    "        BufferedReader reader = new BufferedReader(new FileReader(\"input.txt\"));\n",
    "        String line;\n",
    "        while ((line = reader.readLine()) != null)\n",
    "        {\n",
    "          records.add(line);\n",
    "        }\n",
    "        reader.close();\n",
    "        return records;\n",
    "    }\n",
    "    public static void main(String[] args) throws IOException {\n",
    "        writeFile(\"Hello\\nYes\");\n",
    "        System.out.println(readInput());\n",
    "    }\n",
    "}\n"
   ]
  },
  {
   "cell_type": "code",
   "execution_count": 8,
   "metadata": {},
   "outputs": [
    {
     "name": "stdout",
     "output_type": "stream",
     "text": [
      "Java is great.\n",
      "Hello\n",
      "world\n",
      "Token: Hello\n",
      "Token: World\n",
      "Token: of\n",
      "Token: Java\n"
     ]
    }
   ],
   "source": [
    "import java.util.*\n",
    "class SubStringDemo{\n",
    "    public static main(String[] args){\n",
    "        String a = \"Java is great.\";\n",
    "        System.out.println(a);\n",
    "        String some_input_string = \"Hello world\";\n",
    "        for(String word: some_input_string.split(\" \")){\n",
    "            System.out.println(word);\n",
    "        }\n",
    "        StringTokenizer st = new StringTokenizer(\"Hello World of Java\");\n",
    "        while(st.hasMoreTokens()){\n",
    "            System.out.println(\"Token: \" + st.nextToken());\n",
    "        }\n",
    "    }\n",
    "}"
   ]
  },
  {
   "cell_type": "code",
   "execution_count": 13,
   "metadata": {},
   "outputs": [
    {
     "name": "stdout",
     "output_type": "stream",
     "text": [
      "Input: A|B|C|D\n",
      "Output A was: A\n",
      "Output B was: B\n",
      "Output C was: C\n",
      "Output D was: D\n",
      "Output null was: null\n"
     ]
    }
   ],
   "source": [
    "import java.util.*;\n",
    "public class StrTokDemo4{\n",
    "    public final static int MAXFIELDS = 5;\n",
    "    public final static String DELIM = \"|\";\n",
    "    public static String[] process(String line){\n",
    "        String[] results = new String[MAXFIELDS];\n",
    "        StringTokenizer st = new StringTokenizer(line, DELIM, true);\n",
    "        int i = 0\n",
    "        while(st.hasMoreTokens()){\n",
    "            String s = st.nextToken();\n",
    "            if(s.equals(DELIM)){\n",
    "                if(i++>=MAXFIELDS)\n",
    "                throw new IllegalArgumentException(\"Yes\");\n",
    "                continue\n",
    "            }\n",
    "            results[i] = s;\n",
    "        }\n",
    "        return results;\n",
    "    }\n",
    "    public static void printResults(String input, String[] outputs){\n",
    "        System.out.println(\"Input: \" + input);\n",
    "        for(String s : outputs){\n",
    "            System.out.println(\"Output \" + s + \" was: \" + s);\n",
    "        }\n",
    "    }\n",
    "    public static void main(String[] a){\n",
    "        printResults(\"A|B|C|D\",process(\"A|B|C|D\"));\n",
    "    }\n",
    "}"
   ]
  },
  {
   "cell_type": "code",
   "execution_count": null,
   "metadata": {},
   "outputs": [],
   "source": []
  }
 ],
 "metadata": {
  "kernelspec": {
   "display_name": "SciJava",
   "language": "groovy",
   "name": "scijava"
  },
  "language_info": {
   "codemirror_mode": "groovy",
   "file_extension": "",
   "mimetype": "",
   "name": "scijava",
   "nbconverter_exporter": "",
   "pygments_lexer": "groovy",
   "version": "1.0"
  }
 },
 "nbformat": 4,
 "nbformat_minor": 2
}
